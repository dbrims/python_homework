{
 "cells": [
  {
   "cell_type": "code",
   "execution_count": 3,
   "metadata": {},
   "outputs": [
    {
     "name": "stdout",
     "output_type": "stream",
     "text": [
      "Financial Analysis\n",
      "--------------------\n",
      "P&L for 86 month inclusive of Jan-2010 to Feb-2017\n",
      "Total P&L change: $671099\n",
      "Average Change in P&L: $7803.48\n",
      "Greatest Increase in Profits: $1170593 on Feb-2012\n",
      "Greatest Decrease in Profits: $-1196225 on Sep-2013\n"
     ]
    }
   ],
   "source": [
    "import csv\n",
    "\n",
    "#initialize two variables to accept CSV data\n",
    "dates=[]\n",
    "pnl_dict={}\n",
    "\n",
    "#open CSV file, read in data, and merge data into a dictionary\n",
    "with open('./data/budget_data.csv', 'r') as f:\n",
    "    file_data = csv.reader(f, delimiter=',')\n",
    "    next(file_data) \n",
    "    for row in file_data:\n",
    "        dates.append(row[0])\n",
    "        pnl_dict[row[0]]=int(row[1])\n",
    "\n",
    "        \n",
    "'''initialize the variable holding the high and low PNL value, and initially load them with the first key in pnl_dict\n",
    "also initialize the variable to hold the sum of the pnl'''\n",
    "pnl_high_key=dates[0]\n",
    "pnl_low_key=dates[0]\n",
    "pnl_sum=0\n",
    "\n",
    "#cycle through dictionary, summing P&L values and find the lowest and highest value\n",
    "pnl_sum=0\n",
    "pnl_len=len(pnl_dict)\n",
    "for key in pnl_dict:\n",
    "    pnl_sum=+(pnl_dict[key])\n",
    "    if (pnl_dict[pnl_high_key])<(pnl_dict[key]):\n",
    "        pnl_high_key=key\n",
    "    if (pnl_dict[pnl_low_key])>(pnl_dict[key]):\n",
    "        pnl_low_key=key\n",
    "pnl_ave=pnl_sum/pnl_len\n",
    "\n",
    "#print results and write data to file\n",
    "print('Financial Analysis')\n",
    "print('-'*20)\n",
    "print(f'P&L for {pnl_len} month inclusive of {dates[0]} to {dates[-1]}')\n",
    "print(f'Total P&L change: ${pnl_sum:.0f}')\n",
    "print(f'Average Change in P&L: ${pnl_ave:.2f}')\n",
    "print(f'Greatest Increase in Profits: ${pnl_dict[pnl_high_key]:.0f} on {pnl_high_key}')\n",
    "print(f'Greatest Decrease in Profits: ${pnl_dict[pnl_low_key]:.0f} on {pnl_low_key}')\n",
    "\n",
    "pnl_ave_str=str(pnl_ave)\n",
    "pnl_ave_str_formated=pnl_ave_str[:pnl_ave_str.find('.')+3]\n",
    "\n",
    "with open('pybank_results.txt','w') as f:\n",
    "    f.write('Financial Analysis\\n')\n",
    "    f.write('-'*20+'\\n')\n",
    "    f.write('P&L for '+str({pnl_len})+' month inclusive of '+str(dates[0])+' to '+str(dates[-1])+'\\n')\n",
    "    f.write('Total P&L change: $'+str(pnl_sum)+'\\n')\n",
    "    f.write('Average Change in P&L: $'+pnl_ave_str_formated+'\\n')\n",
    "    f.write('Greatest Increase in Profits: $'+str(pnl_dict[pnl_high_key])+' on '+str(pnl_high_key)+'\\n')\n",
    "    f.write('Greatest Decrease in Profits: $'+str(pnl_dict[pnl_low_key])+' on '+str(pnl_low_key)+'\\n')"
   ]
  },
  {
   "cell_type": "code",
   "execution_count": null,
   "metadata": {},
   "outputs": [],
   "source": []
  }
 ],
 "metadata": {
  "kernelspec": {
   "display_name": "Python 3",
   "language": "python",
   "name": "python3"
  },
  "language_info": {
   "codemirror_mode": {
    "name": "ipython",
    "version": 3
   },
   "file_extension": ".py",
   "mimetype": "text/x-python",
   "name": "python",
   "nbconvert_exporter": "python",
   "pygments_lexer": "ipython3",
   "version": "3.7.6"
  }
 },
 "nbformat": 4,
 "nbformat_minor": 4
}
