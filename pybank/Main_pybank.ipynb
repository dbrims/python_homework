{
 "cells": [
  {
   "cell_type": "code",
   "execution_count": null,
   "metadata": {},
   "outputs": [],
   "source": [
    "import csv\n",
    "\n",
    "#initialize two lists to accept CSV data\n",
    "dates=[]\n",
    "pnl=[]\n",
    "\n",
    "#open CSV file and read in data\n",
    "with open('./data/budget_data.csv', 'r') as f:\n",
    "    file_data = csv.reader(f, delimiter=',')\n",
    "    next(file_data)\n",
    "    for row in file_data:\n",
    "        dates.append(row[0])\n",
    "        pnl.append(float(row[1]))\n",
    "pnl_dict=dict(zip(dates, pnl))\n",
    "\n",
    "\n",
    "pnl_len=len(pnl_dict)\n",
    "pnl_high_key=dates[0]\n",
    "pnl_low_key=dates[0]\n",
    "\n",
    "#cycle through dictionary, summing P&L values and find the lowest and highest value\n",
    "pnl_sum=0\n",
    "for key in pnl_dict:\n",
    "    pnl_sum=+(pnl_dict[key])\n",
    "    if (pnl_dict[pnl_high_key])<(pnl_dict[key]):\n",
    "        pnl_high_key=key\n",
    "    if (pnl_dict[pnl_low_key])>(pnl_dict[key]):\n",
    "        pnl_low_key=key\n",
    "pnl_ave=pnl_sum/pnl_len\n",
    "\n",
    "#print results\n",
    "print('Financial Analysis')\n",
    "print('-'*20)\n",
    "print(f'P&L for {pnl_len} month inclusive of {dates[0]} to {dates[-1]}')\n",
    "print(f'Total P&L change: ${pnl_sum:.0f}')\n",
    "print(f'Average Change in P&L: ${pnl_ave:.2f}')\n",
    "print(f'Greatest Increase in Profits: ${pnl_dict[pnl_high_key]:.0f} on {pnl_high_key}')\n",
    "print(f'Greatest Decrease in Profits: ${pnl_dict[pnl_low_key]:.0f} on {pnl_low_key}')"
   ]
  }
 ],
 "metadata": {
  "kernelspec": {
   "display_name": "Python 3",
   "language": "python",
   "name": "python3"
  },
  "language_info": {
   "codemirror_mode": {
    "name": "ipython",
    "version": 3
   },
   "file_extension": ".py",
   "mimetype": "text/x-python",
   "name": "python",
   "nbconvert_exporter": "python",
   "pygments_lexer": "ipython3",
   "version": "3.7.7"
  }
 },
 "nbformat": 4,
 "nbformat_minor": 4
}
